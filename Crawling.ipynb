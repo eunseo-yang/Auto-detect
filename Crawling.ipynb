{
 "cells": [
  {
   "cell_type": "code",
   "execution_count": 1,
   "metadata": {},
   "outputs": [],
   "source": [
    "from urllib.request import urlopen\n",
    "from bs4 import BeautifulSoup as bs\n",
    "from urllib.parse import quote_plus"
   ]
  },
  {
   "cell_type": "code",
   "execution_count": 4,
   "metadata": {},
   "outputs": [
    {
     "name": "stdout",
     "output_type": "stream",
     "text": [
      "Input keyword: take-away coffee\n",
      "Searching...\n",
      "Downloading...\n",
      "FINISH\n"
     ]
    }
   ],
   "source": [
    "from urllib.request import urlretrieve\n",
    "from urllib.parse import quote_plus    # korean support\n",
    "from bs4 import BeautifulSoup as BS    # Essential module\n",
    "from selenium import webdriver         # Google crolling\n",
    "from selenium.webdriver.common.keys import Keys\n",
    "\n",
    "\n",
    "\n",
    "\n",
    "keyword = input(\"Input keyword: \")\n",
    "i_URL = f'https://www.google.com/search?q={quote_plus(keyword)}&sxsrf=ALeKk00OQamJ34t56QSInnMzwcC5gC344w:1594968011157&source=lnms&tbm=isch&sa=X&ved=2ahUKEwjXs-7t1tPqAhVF7GEKHfM4DqsQ_AUoAXoECBoQAw&biw=1536&bih=754'\n",
    "\n",
    "driver= webdriver.Chrome('C:\\\\Users\\\\82105\\\\2020.11_Graduation Project\\\\chromedriver_win32\\\\chromedriver.exe')\n",
    "options = webdriver.ChromeOptions()\n",
    "options.add_experimental_option('excludeSwitches', ['enable-logging'])\n",
    "driver.get(i_URL)\n",
    "\n",
    "html = driver.page_source\n",
    "soup = BS(html,features=\"html.parser\")\n",
    "\n",
    "img = soup.select('img')\n",
    "\n",
    "i_list = []\n",
    "count = 1\n",
    "\n",
    "print(\"Searching...\")\n",
    "for i in img:\n",
    "   try:\n",
    "      i_list.append(i.attrs[\"src\"])\n",
    "   except KeyError:\n",
    "      i_list.append(i.attrs[\"data-src\"])\n",
    "\n",
    "print(\"Downloading...\")\n",
    "for i in i_list:\n",
    "   urlretrieve(i,\"C:\\\\Users\\\\82105\\\\2020.11_Graduation Project\\\\Imagedata\\\\take out coffee\\\\\"+keyword+str(count)+\".jpg\")\n",
    "   count+=1\n",
    "\n",
    "driver.close()\n",
    "print(\"FINISH\")"
   ]
  },
  {
   "cell_type": "code",
   "execution_count": 5,
   "metadata": {},
   "outputs": [
    {
     "data": {
      "text/plain": [
       "205"
      ]
     },
     "execution_count": 5,
     "metadata": {},
     "output_type": "execute_result"
    }
   ],
   "source": [
    "import os\n",
    "\n",
    "path = 'C:\\\\Users\\\\82105\\\\2020.11_Graduation Project\\\\imagedata\\\\bottles with lid\\\\'\n",
    "file_list = os.listdir(path)\n",
    "\n",
    "len(file_list)"
   ]
  },
  {
   "cell_type": "code",
   "execution_count": null,
   "metadata": {},
   "outputs": [],
   "source": []
  }
 ],
 "metadata": {
  "kernelspec": {
   "display_name": "Python 3",
   "language": "python",
   "name": "python3"
  },
  "language_info": {
   "codemirror_mode": {
    "name": "ipython",
    "version": 3
   },
   "file_extension": ".py",
   "mimetype": "text/x-python",
   "name": "python",
   "nbconvert_exporter": "python",
   "pygments_lexer": "ipython3",
   "version": "3.8.3"
  }
 },
 "nbformat": 4,
 "nbformat_minor": 4
}
